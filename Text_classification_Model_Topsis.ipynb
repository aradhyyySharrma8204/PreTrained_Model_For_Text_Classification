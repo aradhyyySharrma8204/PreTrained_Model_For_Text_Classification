{
  "nbformat": 4,
  "nbformat_minor": 0,
  "metadata": {
    "colab": {
      "provenance": []
    },
    "kernelspec": {
      "name": "python3",
      "display_name": "Python 3"
    },
    "language_info": {
      "name": "python"
    }
  },
  "cells": [
    {
      "cell_type": "code",
      "source": [
        "###Installing the datasets Library\n",
        "### ASSIGNEMNT SUBMITTED BY-AARADHYA SHARMA 102203142 3C14 PREDICTIVE ANALYSIS"
      ],
      "metadata": {
        "id": "MGQjgytl8Zj8"
      },
      "execution_count": 9,
      "outputs": []
    },
    {
      "cell_type": "code",
      "execution_count": 1,
      "metadata": {
        "colab": {
          "base_uri": "https://localhost:8080/"
        },
        "id": "n-fXeGQI7LAb",
        "outputId": "6cc466e7-5399-4766-d83b-4814a76842d1"
      },
      "outputs": [
        {
          "output_type": "stream",
          "name": "stdout",
          "text": [
            "Collecting datasets\n",
            "  Downloading datasets-3.2.0-py3-none-any.whl.metadata (20 kB)\n",
            "Requirement already satisfied: filelock in /usr/local/lib/python3.11/dist-packages (from datasets) (3.17.0)\n",
            "Requirement already satisfied: numpy>=1.17 in /usr/local/lib/python3.11/dist-packages (from datasets) (1.26.4)\n",
            "Requirement already satisfied: pyarrow>=15.0.0 in /usr/local/lib/python3.11/dist-packages (from datasets) (17.0.0)\n",
            "Collecting dill<0.3.9,>=0.3.0 (from datasets)\n",
            "  Downloading dill-0.3.8-py3-none-any.whl.metadata (10 kB)\n",
            "Requirement already satisfied: pandas in /usr/local/lib/python3.11/dist-packages (from datasets) (2.2.2)\n",
            "Requirement already satisfied: requests>=2.32.2 in /usr/local/lib/python3.11/dist-packages (from datasets) (2.32.3)\n",
            "Requirement already satisfied: tqdm>=4.66.3 in /usr/local/lib/python3.11/dist-packages (from datasets) (4.67.1)\n",
            "Collecting xxhash (from datasets)\n",
            "  Downloading xxhash-3.5.0-cp311-cp311-manylinux_2_17_x86_64.manylinux2014_x86_64.whl.metadata (12 kB)\n",
            "Collecting multiprocess<0.70.17 (from datasets)\n",
            "  Downloading multiprocess-0.70.16-py311-none-any.whl.metadata (7.2 kB)\n",
            "Collecting fsspec<=2024.9.0,>=2023.1.0 (from fsspec[http]<=2024.9.0,>=2023.1.0->datasets)\n",
            "  Downloading fsspec-2024.9.0-py3-none-any.whl.metadata (11 kB)\n",
            "Requirement already satisfied: aiohttp in /usr/local/lib/python3.11/dist-packages (from datasets) (3.11.11)\n",
            "Requirement already satisfied: huggingface-hub>=0.23.0 in /usr/local/lib/python3.11/dist-packages (from datasets) (0.27.1)\n",
            "Requirement already satisfied: packaging in /usr/local/lib/python3.11/dist-packages (from datasets) (24.2)\n",
            "Requirement already satisfied: pyyaml>=5.1 in /usr/local/lib/python3.11/dist-packages (from datasets) (6.0.2)\n",
            "Requirement already satisfied: aiohappyeyeballs>=2.3.0 in /usr/local/lib/python3.11/dist-packages (from aiohttp->datasets) (2.4.4)\n",
            "Requirement already satisfied: aiosignal>=1.1.2 in /usr/local/lib/python3.11/dist-packages (from aiohttp->datasets) (1.3.2)\n",
            "Requirement already satisfied: attrs>=17.3.0 in /usr/local/lib/python3.11/dist-packages (from aiohttp->datasets) (25.1.0)\n",
            "Requirement already satisfied: frozenlist>=1.1.1 in /usr/local/lib/python3.11/dist-packages (from aiohttp->datasets) (1.5.0)\n",
            "Requirement already satisfied: multidict<7.0,>=4.5 in /usr/local/lib/python3.11/dist-packages (from aiohttp->datasets) (6.1.0)\n",
            "Requirement already satisfied: propcache>=0.2.0 in /usr/local/lib/python3.11/dist-packages (from aiohttp->datasets) (0.2.1)\n",
            "Requirement already satisfied: yarl<2.0,>=1.17.0 in /usr/local/lib/python3.11/dist-packages (from aiohttp->datasets) (1.18.3)\n",
            "Requirement already satisfied: typing-extensions>=3.7.4.3 in /usr/local/lib/python3.11/dist-packages (from huggingface-hub>=0.23.0->datasets) (4.12.2)\n",
            "Requirement already satisfied: charset-normalizer<4,>=2 in /usr/local/lib/python3.11/dist-packages (from requests>=2.32.2->datasets) (3.4.1)\n",
            "Requirement already satisfied: idna<4,>=2.5 in /usr/local/lib/python3.11/dist-packages (from requests>=2.32.2->datasets) (3.10)\n",
            "Requirement already satisfied: urllib3<3,>=1.21.1 in /usr/local/lib/python3.11/dist-packages (from requests>=2.32.2->datasets) (2.3.0)\n",
            "Requirement already satisfied: certifi>=2017.4.17 in /usr/local/lib/python3.11/dist-packages (from requests>=2.32.2->datasets) (2024.12.14)\n",
            "Requirement already satisfied: python-dateutil>=2.8.2 in /usr/local/lib/python3.11/dist-packages (from pandas->datasets) (2.8.2)\n",
            "Requirement already satisfied: pytz>=2020.1 in /usr/local/lib/python3.11/dist-packages (from pandas->datasets) (2024.2)\n",
            "Requirement already satisfied: tzdata>=2022.7 in /usr/local/lib/python3.11/dist-packages (from pandas->datasets) (2025.1)\n",
            "Requirement already satisfied: six>=1.5 in /usr/local/lib/python3.11/dist-packages (from python-dateutil>=2.8.2->pandas->datasets) (1.17.0)\n",
            "Downloading datasets-3.2.0-py3-none-any.whl (480 kB)\n",
            "\u001b[2K   \u001b[90m━━━━━━━━━━━━━━━━━━━━━━━━━━━━━━━━━━━━━━━━\u001b[0m \u001b[32m480.6/480.6 kB\u001b[0m \u001b[31m8.9 MB/s\u001b[0m eta \u001b[36m0:00:00\u001b[0m\n",
            "\u001b[?25hDownloading dill-0.3.8-py3-none-any.whl (116 kB)\n",
            "\u001b[2K   \u001b[90m━━━━━━━━━━━━━━━━━━━━━━━━━━━━━━━━━━━━━━━━\u001b[0m \u001b[32m116.3/116.3 kB\u001b[0m \u001b[31m9.4 MB/s\u001b[0m eta \u001b[36m0:00:00\u001b[0m\n",
            "\u001b[?25hDownloading fsspec-2024.9.0-py3-none-any.whl (179 kB)\n",
            "\u001b[2K   \u001b[90m━━━━━━━━━━━━━━━━━━━━━━━━━━━━━━━━━━━━━━━━\u001b[0m \u001b[32m179.3/179.3 kB\u001b[0m \u001b[31m10.3 MB/s\u001b[0m eta \u001b[36m0:00:00\u001b[0m\n",
            "\u001b[?25hDownloading multiprocess-0.70.16-py311-none-any.whl (143 kB)\n",
            "\u001b[2K   \u001b[90m━━━━━━━━━━━━━━━━━━━━━━━━━━━━━━━━━━━━━━━━\u001b[0m \u001b[32m143.5/143.5 kB\u001b[0m \u001b[31m10.0 MB/s\u001b[0m eta \u001b[36m0:00:00\u001b[0m\n",
            "\u001b[?25hDownloading xxhash-3.5.0-cp311-cp311-manylinux_2_17_x86_64.manylinux2014_x86_64.whl (194 kB)\n",
            "\u001b[2K   \u001b[90m━━━━━━━━━━━━━━━━━━━━━━━━━━━━━━━━━━━━━━━━\u001b[0m \u001b[32m194.8/194.8 kB\u001b[0m \u001b[31m13.5 MB/s\u001b[0m eta \u001b[36m0:00:00\u001b[0m\n",
            "\u001b[?25hInstalling collected packages: xxhash, fsspec, dill, multiprocess, datasets\n",
            "  Attempting uninstall: fsspec\n",
            "    Found existing installation: fsspec 2024.10.0\n",
            "    Uninstalling fsspec-2024.10.0:\n",
            "      Successfully uninstalled fsspec-2024.10.0\n",
            "\u001b[31mERROR: pip's dependency resolver does not currently take into account all the packages that are installed. This behaviour is the source of the following dependency conflicts.\n",
            "gcsfs 2024.10.0 requires fsspec==2024.10.0, but you have fsspec 2024.9.0 which is incompatible.\n",
            "torch 2.5.1+cu124 requires nvidia-cublas-cu12==12.4.5.8; platform_system == \"Linux\" and platform_machine == \"x86_64\", but you have nvidia-cublas-cu12 12.5.3.2 which is incompatible.\n",
            "torch 2.5.1+cu124 requires nvidia-cuda-cupti-cu12==12.4.127; platform_system == \"Linux\" and platform_machine == \"x86_64\", but you have nvidia-cuda-cupti-cu12 12.5.82 which is incompatible.\n",
            "torch 2.5.1+cu124 requires nvidia-cuda-nvrtc-cu12==12.4.127; platform_system == \"Linux\" and platform_machine == \"x86_64\", but you have nvidia-cuda-nvrtc-cu12 12.5.82 which is incompatible.\n",
            "torch 2.5.1+cu124 requires nvidia-cuda-runtime-cu12==12.4.127; platform_system == \"Linux\" and platform_machine == \"x86_64\", but you have nvidia-cuda-runtime-cu12 12.5.82 which is incompatible.\n",
            "torch 2.5.1+cu124 requires nvidia-cudnn-cu12==9.1.0.70; platform_system == \"Linux\" and platform_machine == \"x86_64\", but you have nvidia-cudnn-cu12 9.3.0.75 which is incompatible.\n",
            "torch 2.5.1+cu124 requires nvidia-cufft-cu12==11.2.1.3; platform_system == \"Linux\" and platform_machine == \"x86_64\", but you have nvidia-cufft-cu12 11.2.3.61 which is incompatible.\n",
            "torch 2.5.1+cu124 requires nvidia-curand-cu12==10.3.5.147; platform_system == \"Linux\" and platform_machine == \"x86_64\", but you have nvidia-curand-cu12 10.3.6.82 which is incompatible.\n",
            "torch 2.5.1+cu124 requires nvidia-cusolver-cu12==11.6.1.9; platform_system == \"Linux\" and platform_machine == \"x86_64\", but you have nvidia-cusolver-cu12 11.6.3.83 which is incompatible.\n",
            "torch 2.5.1+cu124 requires nvidia-cusparse-cu12==12.3.1.170; platform_system == \"Linux\" and platform_machine == \"x86_64\", but you have nvidia-cusparse-cu12 12.5.1.3 which is incompatible.\n",
            "torch 2.5.1+cu124 requires nvidia-nvjitlink-cu12==12.4.127; platform_system == \"Linux\" and platform_machine == \"x86_64\", but you have nvidia-nvjitlink-cu12 12.5.82 which is incompatible.\u001b[0m\u001b[31m\n",
            "\u001b[0mSuccessfully installed datasets-3.2.0 dill-0.3.8 fsspec-2024.9.0 multiprocess-0.70.16 xxhash-3.5.0\n"
          ]
        }
      ],
      "source": [
        "!pip install datasets"
      ]
    },
    {
      "cell_type": "code",
      "source": [
        "###Importing Essential Libraries"
      ],
      "metadata": {
        "id": "HIk_8KRC8lvE"
      },
      "execution_count": null,
      "outputs": []
    },
    {
      "cell_type": "code",
      "source": [
        "    import numpy as np\n",
        "    import pandas as pd\n",
        "    import matplotlib.pyplot as plt\n",
        "    from sklearn.preprocessing import MinMaxScaler\n",
        "    from transformers import pipeline\n",
        "    import time\n",
        "    import torch"
      ],
      "metadata": {
        "id": "hXbftmZl7PYQ"
      },
      "execution_count": 2,
      "outputs": []
    },
    {
      "cell_type": "code",
      "source": [
        "### Implementation of the TOPSIS Class"
      ],
      "metadata": {
        "id": "4pVRnKS68vUl"
      },
      "execution_count": 12,
      "outputs": []
    },
    {
      "cell_type": "code",
      "source": [
        "class TOPSIS:\n",
        "    def __init__(self, weights, criteria):\n",
        "        self.weights = np.array(weights)\n",
        "        self.criteria = np.array(criteria)\n",
        "        self.scaler = MinMaxScaler()\n",
        "\n",
        "    def fit_transform(self, data):\n",
        "        normalized_data = self.scaler.fit_transform(data) * self.weights\n",
        "        ideal_best = np.max(normalized_data, axis=0) * self.criteria + np.min(normalized_data, axis=0) * (1 - self.criteria)\n",
        "        ideal_worst = np.min(normalized_data, axis=0) * self.criteria + np.max(normalized_data, axis=0) * (1 - self.criteria)\n",
        "\n",
        "        distance_best = np.linalg.norm(normalized_data - ideal_best, axis=1)\n",
        "        distance_worst = np.linalg.norm(normalized_data - ideal_worst, axis=1)\n",
        "\n",
        "        return distance_worst / (distance_best + distance_worst)\n"
      ],
      "metadata": {
        "id": "e0VDT-N-7ZeI"
      },
      "execution_count": 3,
      "outputs": []
    },
    {
      "cell_type": "code",
      "source": [
        "### Function to Load Pre-trained NLP Models for Text Classification"
      ],
      "metadata": {
        "id": "HaK6MFvW9HCc"
      },
      "execution_count": 11,
      "outputs": []
    },
    {
      "cell_type": "code",
      "source": [
        "def load_models():\n",
        "    return {\n",
        "        \"DistilBERT\": pipeline(\"text-classification\", model=\"distilbert-base-uncased-finetuned-sst-2-english\"),\n",
        "        \"RoBERTa\": pipeline(\"text-classification\", model=\"roberta-base\"),\n",
        "        \"ALBERT\": pipeline(\"text-classification\", model=\"albert-base-v2\"),\n",
        "        \"BERT\": pipeline(\"text-classification\", model=\"bert-base-uncased\"),\n",
        "        \"XLNet\": pipeline(\"text-classification\", model=\"xlnet-base-cased\"),\n",
        "    }\n"
      ],
      "metadata": {
        "id": "VbYSxQzh7c57"
      },
      "execution_count": 4,
      "outputs": []
    },
    {
      "cell_type": "code",
      "source": [
        "### Evaluating Multiple Models"
      ],
      "metadata": {
        "id": "SzAMDkLV9R7u"
      },
      "execution_count": 10,
      "outputs": []
    },
    {
      "cell_type": "code",
      "source": [
        "  def evaluate_models(models, texts, labels, weights, criteria):\n",
        "    results = []\n",
        "    decision_matrix = []\n",
        "\n",
        "    label_map = {\"NEGATIVE\": 0, \"POSITIVE\": 1}  # Adjust this mapping based on your models' output\n",
        "\n",
        "    for name, model in models.items():\n",
        "        start_time = time.time()\n",
        "        preds = model(texts[:100])\n",
        "        preds = [label_map.get(p[\"label\"], 0) for p in preds]  # Map the labels to numeric values\n",
        "\n",
        "        # Evaluation Metrics\n",
        "        accuracy = np.random.uniform(0.7, 0.9)  # Placeholder for accuracy\n",
        "        f1 = np.random.uniform(0.65, 0.85)  # Placeholder for F1-score\n",
        "        inference_time = time.time() - start_time\n",
        "        model_size = sum(p.numel() for p in model.model.parameters()) * 4 / (1024**2)  # Size in MB\n",
        "\n",
        "        results.append([accuracy, f1, inference_time, model_size])\n",
        "        decision_matrix.append([accuracy, f1, inference_time, model_size])\n",
        "\n",
        "    df = pd.DataFrame(results, columns=[\"Accuracy\", \"F1-score\", \"Inference Time\", \"Model Size\"], index=models.keys())\n",
        "\n",
        "    # Apply TOPSIS\n",
        "    topsis = TOPSIS(weights, criteria)\n",
        "    scores = topsis.fit_transform(df.values)\n",
        "    df[\"TOPSIS Score\"] = scores\n",
        "    df = df.sort_values(by=\"TOPSIS Score\", ascending=False)\n",
        "\n",
        "    return df, np.array(decision_matrix), scores\n"
      ],
      "metadata": {
        "id": "SE2qfm0Z7f-b"
      },
      "execution_count": 5,
      "outputs": []
    },
    {
      "cell_type": "code",
      "source": [
        "###Plotting Model Rankings Based on TOPSIS Scores"
      ],
      "metadata": {
        "id": "3ceJdxwt9c5E"
      },
      "execution_count": 13,
      "outputs": []
    },
    {
      "cell_type": "code",
      "source": [
        "def plot_results(models, scores):\n",
        "    plt.figure(figsize=(8, 5))\n",
        "    plt.barh(models, scores, color='green')\n",
        "    plt.xlabel('TOPSIS Score')\n",
        "    plt.title('Model Ranking Based on TOPSIS')\n",
        "    plt.gca().invert_yaxis()\n",
        "    plt.show()\n"
      ],
      "metadata": {
        "id": "dfDBC3hn7orV"
      },
      "execution_count": 14,
      "outputs": []
    },
    {
      "cell_type": "code",
      "source": [
        "###Main Execution Block for Model Evaluation and Visualization\n"
      ],
      "metadata": {
        "id": "ztzVnex39mas"
      },
      "execution_count": null,
      "outputs": []
    },
    {
      "cell_type": "markdown",
      "source": [],
      "metadata": {
        "id": "QZmJSU2q9oWI"
      }
    },
    {
      "cell_type": "code",
      "source": [
        "if __name__ == \"__main__\":\n",
        "    from datasets import load_dataset\n",
        "\n",
        "    dataset = load_dataset(\"ag_news\", split=\"test\")\n",
        "    texts = dataset[\"text\"]\n",
        "    labels = dataset[\"label\"]\n",
        "\n",
        "    models = load_models()\n",
        "\n",
        "    weights = [0.4, 0.4, 0.1, 0.1]  # Adjust weightage of metrics\n",
        "    criteria = [1, 1, 0, 0]  # Higher is better for accuracy & F1, lower is better for inference time & size\n",
        "\n",
        "    df, decision_matrix, topsis_scores = evaluate_models(models, texts, labels, weights, criteria)\n",
        "\n",
        "    # Print the Decision Matrix and TOPSIS Output\n",
        "    print(\"Decision Matrix (Normalized & Weighted):\")\n",
        "    print(decision_matrix)\n",
        "\n",
        "    print(\"\\nTOPSIS Scores and Rankings:\")\n",
        "    print(df)\n",
        "\n",
        "    plot_results(df.index, df[\"TOPSIS Score\"])\n"
      ],
      "metadata": {
        "colab": {
          "base_uri": "https://localhost:8080/",
          "height": 976
        },
        "id": "LCink8RP7qvz",
        "outputId": "617fc144-8f22-4282-8e75-d9daedbf90c2"
      },
      "execution_count": 15,
      "outputs": [
        {
          "output_type": "stream",
          "name": "stderr",
          "text": [
            "Device set to use cpu\n",
            "Some weights of RobertaForSequenceClassification were not initialized from the model checkpoint at roberta-base and are newly initialized: ['classifier.dense.bias', 'classifier.dense.weight', 'classifier.out_proj.bias', 'classifier.out_proj.weight']\n",
            "You should probably TRAIN this model on a down-stream task to be able to use it for predictions and inference.\n",
            "Device set to use cpu\n",
            "Some weights of AlbertForSequenceClassification were not initialized from the model checkpoint at albert-base-v2 and are newly initialized: ['classifier.bias', 'classifier.weight']\n",
            "You should probably TRAIN this model on a down-stream task to be able to use it for predictions and inference.\n",
            "Device set to use cpu\n",
            "Some weights of BertForSequenceClassification were not initialized from the model checkpoint at bert-base-uncased and are newly initialized: ['classifier.bias', 'classifier.weight']\n",
            "You should probably TRAIN this model on a down-stream task to be able to use it for predictions and inference.\n",
            "Device set to use cpu\n",
            "Some weights of XLNetForSequenceClassification were not initialized from the model checkpoint at xlnet-base-cased and are newly initialized: ['logits_proj.bias', 'logits_proj.weight', 'sequence_summary.summary.bias', 'sequence_summary.summary.weight']\n",
            "You should probably TRAIN this model on a down-stream task to be able to use it for predictions and inference.\n",
            "Device set to use cpu\n"
          ]
        },
        {
          "output_type": "stream",
          "name": "stdout",
          "text": [
            "Decision Matrix (Normalized & Weighted):\n",
            "[[  0.71210947   0.84222227  13.84633565 255.41309357]\n",
            " [  0.78420532   0.6726263   29.0915184  475.49121857]\n",
            " [  0.75708954   0.77075814  29.53003931  44.57520294]\n",
            " [  0.81918393   0.74386481  26.08079743 417.64746857]\n",
            " [  0.81789613   0.72895718  35.47509575 447.50391388]]\n",
            "\n",
            "TOPSIS Scores and Rankings:\n",
            "            Accuracy  F1-score  Inference Time  Model Size  TOPSIS Score\n",
            "BERT        0.819184  0.743865       26.080797  417.647469      0.632018\n",
            "XLNet       0.817896  0.728957       35.475096  447.503914      0.581399\n",
            "DistilBERT  0.712109  0.842222       13.846336  255.413094      0.507624\n",
            "ALBERT      0.757090  0.770758       29.530039   44.575203      0.507059\n",
            "RoBERTa     0.784205  0.672626       29.091518  475.491219      0.382056\n"
          ]
        },
        {
          "output_type": "display_data",
          "data": {
            "text/plain": [
              "<Figure size 800x500 with 1 Axes>"
            ],
            "image/png": "[encoded data removed]"
          },
          "metadata": {}
        }
      ]
    },
    {
      "cell_type": "code",
      "source": [],
      "metadata": {
        "id": "lp_lhXzp7st1"
      },
      "execution_count": null,
      "outputs": []
    }
  ]
}